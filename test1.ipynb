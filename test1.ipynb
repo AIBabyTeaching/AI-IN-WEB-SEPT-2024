{
 "cells": [
  {
   "cell_type": "code",
   "execution_count": null,
   "metadata": {},
   "outputs": [],
   "source": [
    "from dotenv import load_dotenv\n",
    "import os\n",
    "import google.generativeai as genai\n",
    "load_dotenv() # Step 1 load dotenv"
   ]
  },
  {
   "cell_type": "code",
   "execution_count": 37,
   "metadata": {},
   "outputs": [],
   "source": [
    "genai.configure(api_key = os.environ['GEMINI_API_KEY']) # Api key is stored .env\n",
    "model = genai.GenerativeModel('gemini-1.5-pro') # Selected a free model\n",
    "response = model.generate_content(\"هل الارض مسطحة ام كروية؟\")"
   ]
  },
  {
   "cell_type": "code",
   "execution_count": 38,
   "metadata": {},
   "outputs": [
    {
     "data": {
      "text/plain": [
       "'الأرض **كروية**، أو بشكل أكثر دقة، كروية مفلطحة.  فهي ليست كرة مثالية، بل منتفخة قليلاً عند خط الاستواء ومفلطحة عند القطبين بسبب دورانها.\\n\\nهناك أدلة علمية دامغة على كروية الأرض،  منها:\\n\\n* **صور الأقمار الصناعية:** تُظهر بوضوح شكل الأرض الكروي.\\n* **سفن تختفي في الأفق:**  عندما تبتعد سفينة عن الشاطئ، يختفي هيكلها أولاً ثم صواريه تدريجياً، وهذا دليل على انحناء سطح الأرض.\\n* **اختلاف الأبراج المرئية:**  تختلف الأبراج التي يمكن رؤيتها من مواقع مختلفة على الأرض، وهذا لا يمكن تفسيره إلا بكروية الأرض.\\n* **مراحل خسوف القمر:**  الظل الدائري الذي تلقيه الأرض على القمر أثناء الخسوف دليل على كرويتها.\\n* **رحلات الطيران حول العالم:**  إمكانية الطيران في اتجاه واحد والعودة إلى نقطة البداية دليل على كروية الأرض.\\n* **الجاذبية:**  الجاذبية تسحب كل شيء نحو مركز الأرض، وهذا ما يعطيها شكلها الكروي.\\n\\nالفكرة القائلة بأن الأرض مسطحة هي نظرية مؤامرة لا أساس لها من الصحة، وتتناقض مع جميع الأدلة العلمية المتاحة.\\n'"
      ]
     },
     "execution_count": 38,
     "metadata": {},
     "output_type": "execute_result"
    }
   ],
   "source": [
    "response.text"
   ]
  }
 ],
 "metadata": {
  "kernelspec": {
   "display_name": "mitocluster",
   "language": "python",
   "name": "python3"
  },
  "language_info": {
   "codemirror_mode": {
    "name": "ipython",
    "version": 3
   },
   "file_extension": ".py",
   "mimetype": "text/x-python",
   "name": "python",
   "nbconvert_exporter": "python",
   "pygments_lexer": "ipython3",
   "version": "3.11.5"
  }
 },
 "nbformat": 4,
 "nbformat_minor": 2
}
